{
 "cells": [
  {
   "cell_type": "code",
   "execution_count": 1,
   "metadata": {},
   "outputs": [],
   "source": [
    "# importing the modules \n",
    "import numpy as np \n",
    "from bokeh.plotting import figure, output_file, show \n",
    "from bokeh.sampledata.stocks import AAPL, FB, GOOG, IBM, MSFT \n",
    "   \n",
    "# the file to save the model \n",
    "output_file(\"gfg.html\") \n",
    "   \n",
    "# instantiating the figure object \n",
    "graph = figure(x_axis_type = \"datetime\", title = \"Stock Closing Prices\") \n",
    "   \n",
    "# name of the x-axis \n",
    "graph.xaxis.axis_label = 'Date'\n",
    "   \n",
    "# name of the y-axis \n",
    "graph.yaxis.axis_label = 'Price (in USD)'\n",
    "   \n",
    "# plotting the line graph for AAPL \n",
    "x_axis_coordinates = np.array(AAPL['date'], dtype = np.datetime64) \n",
    "y_axis_coordinates = AAPL['adj_close'] \n",
    "color = \"lightblue\"\n",
    "legend_label = 'AAPL'\n",
    "graph.line(x_axis_coordinates, \n",
    "        y_axis_coordinates, \n",
    "        color = color, \n",
    "        legend_label = legend_label) \n",
    "   \n",
    "# plotting the line graph for FB \n",
    "x_axis_coordinates = np.array(FB['date'], dtype = np.datetime64) \n",
    "y_axis_coordinates = FB['adj_close'] \n",
    "color = \"black\"\n",
    "legend_label = 'FB'\n",
    "graph.line(x_axis_coordinates, \n",
    "        y_axis_coordinates, \n",
    "        color = color, \n",
    "        legend_label = legend_label) \n",
    "   \n",
    "# plotting the line graph for GOOG \n",
    "x_axis_coordinates = np.array(GOOG['date'], dtype = np.datetime64) \n",
    "y_axis_coordinates = GOOG['adj_close'] \n",
    "color = \"orange\"\n",
    "legend_label = 'GOOG'\n",
    "graph.line(x_axis_coordinates, \n",
    "        y_axis_coordinates, \n",
    "        color = color, \n",
    "        legend_label = legend_label) \n",
    "   \n",
    "# plotting the line graph for IBM \n",
    "x_axis_coordinates = np.array(IBM['date'], dtype = np.datetime64) \n",
    "y_axis_coordinates = IBM['adj_close'] \n",
    "color = \"darkblue\"\n",
    "legend_label = 'IBM'\n",
    "graph.line(x_axis_coordinates, \n",
    "        y_axis_coordinates, \n",
    "        color = color, \n",
    "        legend_label = legend_label) \n",
    "   \n",
    "# plotting the line graph for MSFT \n",
    "x_axis_coordinates = np.array(MSFT['date'], dtype = np.datetime64) \n",
    "y_axis_coordinates = MSFT['adj_close'] \n",
    "color = \"yellow\"\n",
    "legend_label = 'MSFT'\n",
    "graph.line(x_axis_coordinates, \n",
    "        y_axis_coordinates, \n",
    "        color = color, \n",
    "        legend_label = legend_label) \n",
    "   \n",
    "# relocating the legend table to  \n",
    "# avoid abstruction of the graph \n",
    "graph.legend.location = \"top_left\"\n",
    "   \n",
    "# displaying the model \n",
    "show(graph) "
   ]
  },
  {
   "cell_type": "code",
   "execution_count": null,
   "metadata": {},
   "outputs": [],
   "source": [
    "\n",
    "# importing the modules  \n",
    "from bokeh.plotting import figure, output_file, show  \n",
    "  \n",
    "# instantiating the figure object  \n",
    "graph = figure(title = \"Bokeh Line Graph\")  \n",
    "  \n",
    "# the points to be plotted  \n",
    "x = [1, 2, 3, 4, 5]  \n",
    "y = [5, 4, 3, 2, 1]  \n",
    "  \n",
    "# plotting the line graph  \n",
    "graph.line(x, y)  \n",
    "  \n",
    "# displaying the model  \n",
    "show(graph)"
   ]
  },
  {
   "cell_type": "code",
   "execution_count": 5,
   "metadata": {},
   "outputs": [
    {
     "name": "stdout",
     "output_type": "stream",
     "text": [
      "[0.41704796 1.3950386  0.67688491 1.69065607]\n",
      "[ 0.06833959 -0.62175914  0.77767562  2.53527151]\n"
     ]
    }
   ],
   "source": [
    "import numpy as np\n",
    "x1=np.random.exponential(1,100)\n",
    "print(x1[1:5])\n",
    "x2=np.random.normal(1,1,100)\n",
    "print(x2[1:5])"
   ]
  },
  {
   "cell_type": "code",
   "execution_count": 6,
   "metadata": {},
   "outputs": [],
   "source": [
    "x=np.zeros(2*len(x1))\n",
    "for i in range(len(x1)):\n",
    "    x[2*i]=x1[i]\n",
    "    x[2*i+1]=x2[i]"
   ]
  },
  {
   "cell_type": "code",
   "execution_count": 7,
   "metadata": {},
   "outputs": [],
   "source": [
    "import pandas as pd\n",
    "months = pd.date_range('1960-01', periods=200, freq='MS')"
   ]
  },
  {
   "cell_type": "code",
   "execution_count": 8,
   "metadata": {},
   "outputs": [],
   "source": [
    "ts = pd.Series(x, index=months)"
   ]
  },
  {
   "cell_type": "code",
   "execution_count": null,
   "metadata": {},
   "outputs": [],
   "source": []
  }
 ],
 "metadata": {
  "kernelspec": {
   "display_name": "Python 3",
   "language": "python",
   "name": "python3"
  },
  "language_info": {
   "codemirror_mode": {
    "name": "ipython",
    "version": 3
   },
   "file_extension": ".py",
   "mimetype": "text/x-python",
   "name": "python",
   "nbconvert_exporter": "python",
   "pygments_lexer": "ipython3",
   "version": "3.10.13"
  }
 },
 "nbformat": 4,
 "nbformat_minor": 2
}
